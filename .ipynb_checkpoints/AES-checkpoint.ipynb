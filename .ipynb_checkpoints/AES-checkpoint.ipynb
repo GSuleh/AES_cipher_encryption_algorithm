{
 "cells": [
  {
   "cell_type": "code",
   "execution_count": 1,
   "metadata": {},
   "outputs": [
    {
     "name": "stdout",
     "output_type": "stream",
     "text": [
      "Requirement already satisfied: pycryptodome in c:\\users\\gerry\\anaconda3\\lib\\site-packages (3.14.1)\n",
      "Note: you may need to restart the kernel to use updated packages.\n"
     ]
    }
   ],
   "source": [
    "pip install pycryptodome"
   ]
  },
  {
   "cell_type": "code",
   "execution_count": 2,
   "metadata": {},
   "outputs": [],
   "source": [
    "from Crypto.Cipher import AES"
   ]
  },
  {
   "cell_type": "code",
   "execution_count": 3,
   "metadata": {},
   "outputs": [],
   "source": [
    "from Crypto.Hash import SHA256"
   ]
  },
  {
   "cell_type": "code",
   "execution_count": 4,
   "metadata": {},
   "outputs": [
    {
     "name": "stdout",
     "output_type": "stream",
     "text": [
      "Please enter your password: password\n"
     ]
    }
   ],
   "source": [
    "#Accept input string from user\n",
    "\n",
    "password = input(\"Please enter your password: \")"
   ]
  },
  {
   "cell_type": "code",
   "execution_count": 5,
   "metadata": {},
   "outputs": [
    {
     "name": "stdout",
     "output_type": "stream",
     "text": [
      "password\n"
     ]
    }
   ],
   "source": [
    "print(password)"
   ]
  },
  {
   "cell_type": "code",
   "execution_count": 6,
   "metadata": {},
   "outputs": [],
   "source": [
    "#Encode password to bytes from string then hash\n",
    "\n",
    "hash = SHA256.new(password.encode('utf-8'))"
   ]
  },
  {
   "cell_type": "code",
   "execution_count": 12,
   "metadata": {},
   "outputs": [
    {
     "name": "stdout",
     "output_type": "stream",
     "text": [
      "b\"^\\x88H\\x98\\xda(\\x04qQ\\xd0\\xe5o\\x8d\\xc6)'s`=\\rj\\xab\\xbd\\xd6*\\x11\\xefr\\x1d\\x15B\\xd8\"\n"
     ]
    },
    {
     "data": {
      "text/plain": [
       "32"
      ]
     },
     "execution_count": 12,
     "metadata": {},
     "output_type": "execute_result"
    }
   ],
   "source": [
    "#Convert to length 32byte and pass value to key variable\n",
    "\n",
    "key = hash.digest()\n",
    "print(key)\n",
    "len(key)"
   ]
  },
  {
   "cell_type": "code",
   "execution_count": 13,
   "metadata": {},
   "outputs": [],
   "source": [
    "#AES encryption function\n",
    "\n",
    "def aes_encrypt(data):\n",
    "    msg = data\n",
    "    block_size = 16\n",
    "    pad = \"[\"\n",
    "    padding = lambda m: m + (block_size - len(m) % block_size) * pad\n",
    "    cipher = AES.new(key, AES.MODE_ECB)\n",
    "    result =cipher.encrypt(padding(msg).encode('utf-8'))\n",
    "    return result"
   ]
  },
  {
   "cell_type": "code",
   "execution_count": 16,
   "metadata": {},
   "outputs": [
    {
     "name": "stdout",
     "output_type": "stream",
     "text": [
      "Write your message: Hey there!\n",
      "b'4\\xbb}\\x11\\xab\\xf9\\xae\\xf7\\xabF\\xaf}H\\x08,t'\n"
     ]
    }
   ],
   "source": [
    "#Input message to be encrypted\n",
    "msg = input(\"Write your message: \")\n",
    "\n",
    "#Pass msg into encryption function and save to cypher text variable\n",
    "cypher_text = aes_encrypt(msg)\n",
    "\n",
    "#print the cypher text\n",
    "print(cypher_text)"
   ]
  },
  {
   "cell_type": "code",
   "execution_count": 17,
   "metadata": {},
   "outputs": [],
   "source": [
    "#Decryption function\n",
    "def decrypt(data):\n",
    "    msg = data\n",
    "    pad = \"[\"\n",
    "    decipher = AES.new(key, AES.MODE_ECB)\n",
    "    paded_plain_text = decipher.decrypt(msg).decode('utf-8')\n",
    "    index = paded_plain_text.find(pad)\n",
    "    result = paded_plain_text[:index]\n",
    "    return result\n",
    "    "
   ]
  },
  {
   "cell_type": "code",
   "execution_count": 18,
   "metadata": {},
   "outputs": [
    {
     "name": "stdout",
     "output_type": "stream",
     "text": [
      "Hey there!\n"
     ]
    }
   ],
   "source": [
    "#Pass cypher_text into decryption function and save to plain text variable\n",
    "plain_text = decrypt(cypher_text)\n",
    "\n",
    "#print plain text\n",
    "print(plain_text)"
   ]
  },
  {
   "cell_type": "code",
   "execution_count": null,
   "metadata": {},
   "outputs": [],
   "source": []
  }
 ],
 "metadata": {
  "kernelspec": {
   "display_name": "Python 3",
   "language": "python",
   "name": "python3"
  },
  "language_info": {
   "codemirror_mode": {
    "name": "ipython",
    "version": 3
   },
   "file_extension": ".py",
   "mimetype": "text/x-python",
   "name": "python",
   "nbconvert_exporter": "python",
   "pygments_lexer": "ipython3",
   "version": "3.8.5"
  }
 },
 "nbformat": 4,
 "nbformat_minor": 4
}
